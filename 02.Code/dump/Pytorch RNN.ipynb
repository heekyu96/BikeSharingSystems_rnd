{
 "cells": [
  {
   "cell_type": "code",
   "execution_count": 2,
   "metadata": {
    "collapsed": true
   },
   "outputs": [],
   "source": [
    "%matplotlib inline\n",
    "from matplotlib import pyplot as plt\n",
    "import numpy as np\n",
    "import torch\n",
    "from torch.autograd import Variable\n",
    "import torch.nn as nn\n",
    "import torch.nn.functional as F\n",
    "import torch.optim as optim\n",
    "import gym"
   ]
  },
  {
   "cell_type": "code",
   "execution_count": 3,
   "metadata": {
    "collapsed": false,
    "scrolled": true
   },
   "outputs": [
    {
     "ename": "NameError",
     "evalue": "name 'chain' is not defined",
     "output_type": "error",
     "traceback": [
      "\u001b[0;31m---------------------------------------------------------------------------\u001b[0m",
      "\u001b[0;31mNameError\u001b[0m                                 Traceback (most recent call last)",
      "\u001b[0;32m/var/folders/0n/j8b1qvcj6nx2tpf67gcgdtvc0000gn/T/ipykernel_11943/981685893.py\u001b[0m in \u001b[0;36m<module>\u001b[0;34m\u001b[0m\n\u001b[1;32m      3\u001b[0m \u001b[0;34m\u001b[0m\u001b[0m\n\u001b[1;32m      4\u001b[0m \u001b[0mcriterion\u001b[0m \u001b[0;34m=\u001b[0m \u001b[0mnn\u001b[0m\u001b[0;34m.\u001b[0m\u001b[0mMSELoss\u001b[0m\u001b[0;34m(\u001b[0m\u001b[0;34m)\u001b[0m\u001b[0;34m\u001b[0m\u001b[0;34m\u001b[0m\u001b[0m\n\u001b[0;32m----> 5\u001b[0;31m \u001b[0moptimizer\u001b[0m \u001b[0;34m=\u001b[0m \u001b[0moptim\u001b[0m\u001b[0;34m.\u001b[0m\u001b[0mAdam\u001b[0m\u001b[0;34m(\u001b[0m\u001b[0mchain\u001b[0m\u001b[0;34m(\u001b[0m\u001b[0mlstm1\u001b[0m\u001b[0;34m.\u001b[0m\u001b[0mparameters\u001b[0m\u001b[0;34m(\u001b[0m\u001b[0;34m)\u001b[0m\u001b[0;34m,\u001b[0m\u001b[0mlstm2\u001b[0m\u001b[0;34m.\u001b[0m\u001b[0mparameters\u001b[0m\u001b[0;34m(\u001b[0m\u001b[0;34m)\u001b[0m\u001b[0;34m)\u001b[0m\u001b[0;34m,\u001b[0m \u001b[0mlr\u001b[0m\u001b[0;34m=\u001b[0m\u001b[0;36m0.0001\u001b[0m\u001b[0;34m)\u001b[0m\u001b[0;34m\u001b[0m\u001b[0;34m\u001b[0m\u001b[0m\n\u001b[0m\u001b[1;32m      6\u001b[0m \u001b[0;32mfor\u001b[0m \u001b[0mi\u001b[0m \u001b[0;32min\u001b[0m \u001b[0mrange\u001b[0m\u001b[0;34m(\u001b[0m\u001b[0;36m500\u001b[0m\u001b[0;34m)\u001b[0m\u001b[0;34m:\u001b[0m\u001b[0;34m\u001b[0m\u001b[0;34m\u001b[0m\u001b[0m\n\u001b[1;32m      7\u001b[0m     \u001b[0mdata\u001b[0m \u001b[0;34m=\u001b[0m \u001b[0mnp\u001b[0m\u001b[0;34m.\u001b[0m\u001b[0msin\u001b[0m\u001b[0;34m(\u001b[0m\u001b[0mnp\u001b[0m\u001b[0;34m.\u001b[0m\u001b[0mlinspace\u001b[0m\u001b[0;34m(\u001b[0m\u001b[0;36m0\u001b[0m\u001b[0;34m,\u001b[0m\u001b[0;36m5\u001b[0m\u001b[0;34m,\u001b[0m\u001b[0;36m100\u001b[0m\u001b[0;34m)\u001b[0m\u001b[0;34m+\u001b[0m\u001b[0;36m2\u001b[0m\u001b[0;34m*\u001b[0m\u001b[0mnp\u001b[0m\u001b[0;34m.\u001b[0m\u001b[0mpi\u001b[0m\u001b[0;34m*\u001b[0m\u001b[0mnp\u001b[0m\u001b[0;34m.\u001b[0m\u001b[0mrandom\u001b[0m\u001b[0;34m.\u001b[0m\u001b[0mrand\u001b[0m\u001b[0;34m(\u001b[0m\u001b[0;34m)\u001b[0m\u001b[0;34m)\u001b[0m\u001b[0;34m\u001b[0m\u001b[0;34m\u001b[0m\u001b[0m\n",
      "\u001b[0;31mNameError\u001b[0m: name 'chain' is not defined"
     ]
    }
   ],
   "source": [
    "lstm1 = nn.LSTM(1,64)\n",
    "lstm2 = nn.LSTM(64,1)\n",
    "\n",
    "criterion = nn.MSELoss()\n",
    "optimizer = optim.Adam(chain(lstm1.parameters(),lstm2.parameters()), lr=0.0001)\n",
    "for i in range(500):\n",
    "    data = np.sin(np.linspace(0,5,100)+2*np.pi*np.random.rand())\n",
    "    xs = data[:-1]\n",
    "    ys = data[1:]\n",
    "    X = Variable(torch.Tensor(xs).view(-1,1,1))\n",
    "    y = Variable(torch.Tensor(ys))\n",
    "    lstm1.zero_grad()\n",
    "    lstm2.zero_grad()\n",
    "    lstm_out, _ = lstm1(X,None)\n",
    "    lstm_out, _ = lstm2(lstm_out,None)\n",
    "    loss = criterion(lstm_out,y)\n",
    "    loss.backward()\n",
    "    optimizer.step()\n",
    "    if i%10 == 0:\n",
    "        print(\"i {}, loss {}\".format(i,loss.data.numpy()[0]))"
   ]
  },
  {
   "cell_type": "code",
   "execution_count": null,
   "metadata": {
    "collapsed": false,
    "scrolled": true
   },
   "outputs": [],
   "source": [
    "preds = []\n",
    "hc1 = None\n",
    "hc2 = None\n",
    "# warm up\n",
    "for i in range(len(xs)):\n",
    "    x = Variable(torch.Tensor(1,1,1).fill_(xs[i]))\n",
    "    tmp, hc1 = lstm1(x,hc1)\n",
    "    x, hc2 = lstm2(tmp,hc2)\n",
    "    preds.append(x.data.numpy()[0][0][0])\n",
    "# x = Variable(torch.rand(1,1,1))\n",
    "for i in range(500):\n",
    "    tmp, hc1 = lstm1(x,hc1)\n",
    "    x, hc2 = lstm2(tmp,hc2)\n",
    "    preds.append(x.data.numpy()[0][0][0])"
   ]
  },
  {
   "cell_type": "code",
   "execution_count": null,
   "metadata": {
    "collapsed": false
   },
   "outputs": [],
   "source": [
    "%matplotlib inline\n",
    "from matplotlib import pyplot as plt\n",
    "plt.plot(preds)\n",
    "# plt.plot(ys)"
   ]
  },
  {
   "cell_type": "code",
   "execution_count": null,
   "metadata": {
    "collapsed": false,
    "scrolled": true
   },
   "outputs": [],
   "source": [
    "class Sequence(nn.Module):\n",
    "    def __init__(self):\n",
    "        super(Sequence,self).__init__()\n",
    "        self.lstm1 = nn.LSTM(1,64)\n",
    "        self.lstm2 = nn.LSTM(64,1)\n",
    "        self.p = 0.5\n",
    "        \n",
    "    def forward(self,seq, hc = None):\n",
    "        out = []\n",
    "        if hc == None:\n",
    "            hc1, hc2 = None, None\n",
    "        else:\n",
    "            hc1, hc2 = hc\n",
    "        X_in = torch.unsqueeze(seq[0],0)\n",
    "        for X in seq.chunk(seq.size(0),dim=0):\n",
    "            if np.random.rand()>self.p:\n",
    "                X_in = X\n",
    "            tmp, hc1 = self.lstm1(X_in,hc1)\n",
    "            X_in, hc2 = self.lstm2(tmp,hc2)\n",
    "            out.append(X_in)\n",
    "        return torch.stack(out).squeeze(1),(hc1,hc2)\n",
    "\n",
    "\n",
    "seq = Sequence()                \n",
    "criterion = nn.MSELoss()\n",
    "optimizer = optim.Adam(seq.parameters(), lr=0.001)\n",
    "for i in range(1000):\n",
    "    data = np.sin(np.linspace(0,10,100)+2*np.pi*np.random.rand())\n",
    "    xs = data[:-1]\n",
    "    ys = data[1:]\n",
    "    X = Variable(torch.Tensor(xs).view(-1,1,1))\n",
    "    y = Variable(torch.Tensor(ys))\n",
    "    if i%100==0:\n",
    "        seq.p = min(seq.p+0.1,0.85)\n",
    "    optimizer.zero_grad()\n",
    "    lstm_out,_ = seq(X)\n",
    "    loss = criterion(lstm_out[20:].view(-1),y[20:])\n",
    "    loss.backward()\n",
    "    optimizer.step()\n",
    "    if i%10 == 0:\n",
    "        print(\"i {}, loss {}\".format(i,loss.data.numpy()[0]))            "
   ]
  },
  {
   "cell_type": "code",
   "execution_count": null,
   "metadata": {
    "collapsed": false,
    "scrolled": false
   },
   "outputs": [],
   "source": [
    "y = np.sin(np.linspace(0,100,1000)+2*np.pi*np.random.rand())\n",
    "X = Variable(torch.Tensor(y))[:100].view(-1,1,1)\n",
    "lstm_out,hc = seq(X)\n",
    "preds = []\n",
    "pred = lstm_out[-1].view(1,1,1)\n",
    "for i in range(1000):\n",
    "    pred,hc = seq(pred,hc)\n",
    "    preds.append(pred.data.numpy().ravel()[0])\n",
    "\n",
    "plt.figure(figsize=[10,8])\n",
    "xs = np.arange(lstm_out.size(0))\n",
    "plt.plot(xs,lstm_out.data.numpy().ravel())\n",
    "xs = np.arange(1000)+len(xs)\n",
    "plt.plot(xs,preds)\n",
    "plt.plot(y)\n",
    "plt.legend(['seeding','LSTM','real'])\n",
    "plt.title('LSTM')"
   ]
  },
  {
   "cell_type": "code",
   "execution_count": null,
   "metadata": {
    "collapsed": false,
    "scrolled": true
   },
   "outputs": [],
   "source": [
    "class Sequence(nn.Module):\n",
    "    def __init__(self):\n",
    "        super(Sequence,self).__init__()\n",
    "        self.lstm1 = nn.RNN(1,64,1)\n",
    "        self.lstm2 = nn.RNN(64,1,1)\n",
    "        self.p = 0.5\n",
    "        \n",
    "    def forward(self,seq, hc = None):\n",
    "        out = []\n",
    "        if hc == None:\n",
    "            hc1, hc2 = None, None\n",
    "        else:\n",
    "            hc1, hc2 = hc\n",
    "        X_in = torch.unsqueeze(seq[0],0)\n",
    "        for X in seq.chunk(seq.size(0),dim=0):\n",
    "            if np.random.rand()>self.p:\n",
    "                X_in = X\n",
    "            tmp, hc1 = self.lstm1(X_in,hc1)\n",
    "            X_in, hc2 = self.lstm2(tmp,hc2)\n",
    "            out.append(X_in)\n",
    "        return torch.stack(out).squeeze(1),(hc1,hc2)\n",
    "\n",
    "\n",
    "seq = Sequence()                \n",
    "criterion = nn.MSELoss()\n",
    "optimizer = optim.Adam(seq.parameters(), lr=0.001)\n",
    "for i in range(1000):\n",
    "    data = np.sin(np.linspace(0,10,100)+2*np.pi*np.random.rand())\n",
    "    xs = data[:-1]\n",
    "    ys = data[1:]\n",
    "    X = Variable(torch.Tensor(xs).view(-1,1,1))\n",
    "    y = Variable(torch.Tensor(ys))\n",
    "    if i%100==0:\n",
    "        seq.p = min(seq.p+0.1,0.8)\n",
    "    optimizer.zero_grad()\n",
    "    lstm_out,_ = seq(X)\n",
    "    loss = criterion(lstm_out[20:].view(-1),y[20:])\n",
    "    loss.backward()\n",
    "    optimizer.step()\n",
    "    if i%10 == 0:\n",
    "        print(\"i {}, loss {}\".format(i,loss.data.numpy()[0]))  "
   ]
  },
  {
   "cell_type": "code",
   "execution_count": null,
   "metadata": {
    "collapsed": false,
    "scrolled": false
   },
   "outputs": [],
   "source": [
    "y = np.sin(np.linspace(0,100,1000)+2*np.pi*np.random.rand())\n",
    "X = Variable(torch.Tensor(y))[:100].view(-1,1,1)\n",
    "lstm_out,hc = seq(X)\n",
    "preds = []\n",
    "pred = lstm_out[-1].view(1,1,1)\n",
    "for i in range(1000):\n",
    "    pred,hc = seq(pred,hc)\n",
    "    preds.append(pred.data.numpy().ravel()[0])\n",
    "\n",
    "plt.figure(figsize=[10,8])\n",
    "xs = np.arange(lstm_out.size(0))\n",
    "plt.plot(xs,lstm_out.data.numpy().ravel())\n",
    "xs = np.arange(1000)+len(xs)\n",
    "plt.plot(xs,preds)\n",
    "plt.plot(y)\n",
    "plt.legend(['seeding','RNN','real'])\n",
    "plt.title('RNN')"
   ]
  },
  {
   "cell_type": "code",
   "execution_count": null,
   "metadata": {
    "collapsed": false,
    "scrolled": true
   },
   "outputs": [],
   "source": [
    "class Sequence(nn.Module):\n",
    "    def __init__(self):\n",
    "        super(Sequence,self).__init__()\n",
    "        self.lstm1 = nn.GRU(1,64,1)\n",
    "        self.lstm2 = nn.GRU(64,1,1)\n",
    "        self.p = 0.5\n",
    "        \n",
    "    def forward(self,seq, hc = None):\n",
    "        out = []\n",
    "        if hc == None:\n",
    "            hc1, hc2 = None, None\n",
    "        else:\n",
    "            hc1, hc2 = hc\n",
    "        X_in = torch.unsqueeze(seq[0],0)\n",
    "        for X in seq.chunk(seq.size(0),dim=0):\n",
    "            if np.random.rand()>self.p:\n",
    "                X_in = X\n",
    "            tmp, hc1 = self.lstm1(X_in,hc1)\n",
    "            X_in, hc2 = self.lstm2(tmp,hc2)\n",
    "            out.append(X_in)\n",
    "        return torch.stack(out).squeeze(1),(hc1,hc2)\n",
    "\n",
    "\n",
    "seq = Sequence()                \n",
    "criterion = nn.MSELoss()\n",
    "optimizer = optim.Adam(seq.parameters(), lr=0.001)\n",
    "for i in range(1000):\n",
    "    data = np.sin(np.linspace(0,10,100)+2*np.pi*np.random.rand())\n",
    "    xs = data[:-1]\n",
    "    ys = data[1:]\n",
    "    X = Variable(torch.Tensor(xs).view(-1,1,1))\n",
    "    y = Variable(torch.Tensor(ys))\n",
    "    if i%100==0:\n",
    "        seq.p = min(seq.p+0.1,0.8)\n",
    "    optimizer.zero_grad()\n",
    "    lstm_out,_ = seq(X)\n",
    "    loss = criterion(lstm_out[20:].view(-1),y[20:])\n",
    "    loss.backward()\n",
    "    optimizer.step()\n",
    "    if i%10 == 0:\n",
    "        print(\"i {}, loss {}\".format(i,loss.data.numpy()[0]))  "
   ]
  },
  {
   "cell_type": "code",
   "execution_count": null,
   "metadata": {
    "collapsed": false
   },
   "outputs": [],
   "source": [
    "y = np.sin(np.linspace(0,100,1000)+2*np.pi*np.random.rand())\n",
    "X = Variable(torch.Tensor(y))[:100].view(-1,1,1)\n",
    "lstm_out,hc = seq(X)\n",
    "preds = []\n",
    "pred = lstm_out[-1].view(1,1,1)\n",
    "for i in range(1000):\n",
    "    pred,hc = seq(pred,hc)\n",
    "    preds.append(pred.data.numpy().ravel()[0])\n",
    "\n",
    "plt.figure(figsize=[10,8])\n",
    "xs = np.arange(lstm_out.size(0))\n",
    "plt.plot(xs,lstm_out.data.numpy().ravel())\n",
    "xs = np.arange(1000)+len(xs)\n",
    "plt.plot(xs,preds)\n",
    "plt.plot(y)\n",
    "plt.legend(['seeding','GRU','real'])\n",
    "plt.title('GRU')"
   ]
  }
 ],
 "metadata": {
  "anaconda-cloud": {},
  "interpreter": {
   "hash": "f55edf5ee18600c06ee6973e73131ea18275f705941efdf181bef6983f0b3918"
  },
  "kernelspec": {
   "display_name": "Python 3.7.13 ('pytorch_37_ipynb')",
   "language": "python",
   "name": "python3"
  },
  "language_info": {
   "codemirror_mode": {
    "name": "ipython",
    "version": 3
   },
   "file_extension": ".py",
   "mimetype": "text/x-python",
   "name": "python",
   "nbconvert_exporter": "python",
   "pygments_lexer": "ipython3",
   "version": "3.7.13"
  }
 },
 "nbformat": 4,
 "nbformat_minor": 1
}
